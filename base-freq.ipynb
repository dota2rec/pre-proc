{
 "cells": [
  {
   "cell_type": "markdown",
   "metadata": {},
   "source": [
    "# Data Preprocessing\n",
    "\n"
   ]
  },
  {
   "cell_type": "code",
   "execution_count": 2,
   "metadata": {},
   "outputs": [
    {
     "name": "stdout",
     "output_type": "stream",
     "text": [
      "items continuous id assignment success!\n"
     ]
    }
   ],
   "source": [
    "import re\n",
    "# validate the dict data for hero and item\n",
    "def validate(data):\n",
    "    id=[]\n",
    "    for key in data:\n",
    "        tid=data[key]\n",
    "        id.append(tid)\n",
    "    id.sort();\n",
    "    flag=True\n",
    "    for i in range(0, len(id)):\n",
    "        if id[i]!=i:\n",
    "            print i\n",
    "            flag=False\n",
    "    #print id\n",
    "    return flag\n",
    "# get the key-id pairs of hero or item data dict to be continuous\n",
    "def continuous_format(data):\n",
    "    i=0\n",
    "    for key in data:\n",
    "        data[key]=i\n",
    "        i+=1\n",
    "\n",
    "# construct item/hero-id based on json data\n",
    "# reformat the id sequence\n",
    "def dict_from_json(data, reindex):\n",
    "    dict_data=dict()\n",
    "    repeat=0\n",
    "    for i in range(0, len(data)):\n",
    "        #name=data[i]['name']\n",
    "        name=re.sub('(npc_dota_hero_|item_)', '', data[i]['name'])\n",
    "        #name=re.sub('[npc_|item_]', '', data[i]['name'])\n",
    "        if name not in dict_data:\n",
    "            if reindex:\n",
    "                dict_data[name]=(i-repeat)\n",
    "            else:\n",
    "                dict_data[name]=int(data[i]['id'])\n",
    "        else:\n",
    "            repeat+=1\n",
    "            \n",
    "        \n",
    "    return dict_data\n",
    "\n",
    "# for a up-to-date item/hero list, we can http request to\n",
    "# https://api.opendota.com/api/explorer?sql=SELECT%20*%20FROM%20items\n",
    "heroes=json.load(open('heroes.json'))['rows']\n",
    "items=json.load(open('items.json'))['rows']\n",
    "#print heroes\n",
    "heroes=dict_from_json(heroes, False)\n",
    "items=dict_from_json(items, True)\n",
    "\n",
    "#if validate(heroes):\n",
    "#    print \"heroes continuous id assignment success!\"\n",
    "if validate(items):\n",
    "    print \"items continuous id assignment success!\"\n",
    "#print items\n",
    "#print heroes\n",
    "#print items"
   ]
  },
  {
   "cell_type": "code",
   "execution_count": 3,
   "metadata": {},
   "outputs": [
    {
     "name": "stdout",
     "output_type": "stream",
     "text": [
      "hero count: 121\n",
      "item count: 292\n"
     ]
    }
   ],
   "source": [
    "# based on the google drive data\n",
    "# hero count=113\n",
    "# item count=1020\n",
    "import json\n",
    "import os\n",
    "import sys\n",
    "\n",
    "fpath='./data/'\n",
    "\n",
    "# init some coefficients\n",
    "# the baseline freq coefficient\n",
    "a=1.2\n",
    "b=0.8\n",
    "\n",
    "# init basic hero-item freq matrix\n",
    "\n",
    "def maxValInDict(data):\n",
    "    maxval=(-sys.maxint-1)\n",
    "    for key in data:\n",
    "        if data[key]>maxval:\n",
    "            maxval=data[key]\n",
    "    return maxval\n",
    "\n",
    "hcount=maxValInDict(heroes)+1\n",
    "icount=len(items)\n",
    "print \"hero count: \" + str(hcount)\n",
    "print \"item count: \" + str(icount)\n",
    "basic_freq=[]\n",
    "for i in range(0, hcount):\n",
    "    basic_freq.append([0]*icount)\n",
    "\n",
    "# load from data and computer base freq\n",
    "# the first five heroes in the players list is radiant\n",
    "for fname in os.listdir(fpath):\n",
    "    data=json.load(open(fpath+fname))\n",
    "    players=data['players']\n",
    "    for i in range(0, len(players)):\n",
    "        player=players[i]\n",
    "        heroid=player['hero_id']\n",
    "        purchase=player['purchase']\n",
    "        if player['isRadiant']:\n",
    "            win=player['radiant_win']\n",
    "        else:\n",
    "            win=(not player['radiant_win'])\n",
    "        # be noticed that purchase is a dictionary\n",
    "        for key in purchase:\n",
    "            iid=items[key]\n",
    "            try:\n",
    "                if win: \n",
    "                    basic_freq[heroid][iid]+=a\n",
    "                else: \n",
    "                    basic_freq[heroid][iid]+=b\n",
    "            except IndexError as e:\n",
    "                print \"file name: \" + fname\n",
    "                print \"item id: \" + str(iid)\n",
    "                print \"hero id: \" + str(heroid)\n",
    "    \n"
   ]
  },
  {
   "cell_type": "code",
   "execution_count": 4,
   "metadata": {},
   "outputs": [
    {
     "name": "stdout",
     "output_type": "stream",
     "text": [
      "[6.8, 0, 0, 0, 0, 21.200000000000006, 27.600000000000005, 2.4000000000000004, 0.8, 0, 0.8, 27.600000000000005, 0, 1.2, 0.8, 4.0, 4.0, 2.4, 26.000000000000007, 0, 15.199999999999998, 0, 0, 27.600000000000005, 0, 0, 0, 26.000000000000007, 0, 6.0, 0, 0, 1.2, 0, 1.2, 0, 0, 0, 3.2, 0, 0.8, 0.8, 0, 0, 0, 0, 0, 0, 0, 0, 0, 0, 0, 0, 0, 4.8, 0, 0, 0, 3.2, 0, 1.2, 0, 25.200000000000006, 1.6, 0, 0, 0.8, 0.8, 0, 0, 0, 0, 0, 0, 0, 0, 0, 0, 0, 0, 0, 0, 0, 0, 0, 3.2, 3.2, 0, 0, 15.2, 26.000000000000007, 19.6, 0.8, 3.2, 26.000000000000007, 3.2, 27.600000000000005, 0, 0.8, 0, 0, 0, 0, 0, 0, 0, 15.2, 0, 20.400000000000002, 0.8, 0, 0, 0, 0, 0, 0, 0, 0, 0, 0, 0, 0, 0, 0, 0, 2.8, 0, 0, 0, 0, 0, 0, 0, 2.0, 4.8, 0, 0, 6.8, 0, 0, 0, 0, 0, 1.2, 0, 0, 0, 0.8, 25.200000000000006, 0, 0, 0, 0, 0, 0, 0, 0, 0, 5.2, 8.0, 0, 26.000000000000007, 3.2, 0, 0, 0.8, 0, 0, 0, 0, 1.2, 0, 0, 0, 13.599999999999998, 0, 0, 0, 0, 0, 0, 0, 0, 0, 0, 0, 0, 0.8, 0, 0, 26.000000000000007, 0, 0, 0, 0, 0, 0, 0, 0, 0, 0, 0, 13.599999999999998, 0, 0.8, 0, 0, 0, 0, 0, 0, 0, 0, 0.8, 0, 0, 0, 0, 0, 0, 0, 0, 24.400000000000006, 0, 1.6, 0, 1.2, 2.0, 1.2, 2.8, 0, 0, 0, 0, 0, 1.6, 1.2, 15.999999999999998, 0, 26.800000000000004, 0.8, 0.8, 2.0, 0.8, 5.6, 9.6, 6.0, 0.8, 26.800000000000008, 2.4, 1.6, 9.600000000000001, 26.800000000000004, 1.6, 25.200000000000006, 20.400000000000002, 0, 0, 0, 0, 0, 0, 15.199999999999998, 0, 0.8, 26.000000000000007, 4.0, 2.8, 0, 6.8, 5.2, 4.0, 2.8, 14.0, 0, 0, 0, 0, 0, 0, 0, 0, 0, 0, 0, 0, 1.6, 3.2, 0, 0, 0.8]\n"
     ]
    }
   ],
   "source": [
    "# predict based on model\n",
    "# the basic model is a matrix that contains weight \n",
    "# returns base h*k item recommendations\n",
    "# if we do not consider time, rather we consider \n",
    "# all the necessary items, then our method should also be effective\n",
    "# in this case we may recommend more items like 15-20 that captures early-mid-final \n",
    "def base_rec(heroes, model, k):\n",
    "    res=[]\n",
    "    for h in heroes:\n",
    "        hifreq=model[h]\n",
    "        hifreq=hifreq.sort()\n",
    "        res.append(hifreq[0:k])\n"
   ]
  },
  {
   "cell_type": "code",
   "execution_count": null,
   "metadata": {
    "collapsed": true
   },
   "outputs": [],
   "source": [
    "# "
   ]
  }
 ],
 "metadata": {
  "kernelspec": {
   "display_name": "Python 2",
   "language": "python",
   "name": "python2"
  },
  "language_info": {
   "codemirror_mode": {
    "name": "ipython",
    "version": 2
   },
   "file_extension": ".py",
   "mimetype": "text/x-python",
   "name": "python",
   "nbconvert_exporter": "python",
   "pygments_lexer": "ipython2",
   "version": "2.7.14"
  }
 },
 "nbformat": 4,
 "nbformat_minor": 2
}

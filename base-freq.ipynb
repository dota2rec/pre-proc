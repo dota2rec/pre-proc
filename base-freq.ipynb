{
 "cells": [
  {
   "cell_type": "markdown",
   "metadata": {},
   "source": [
    "# Data Preprocessing\n",
    "\n"
   ]
  },
  {
   "cell_type": "code",
   "execution_count": 98,
   "metadata": {},
   "outputs": [
    {
     "name": "stdout",
     "output_type": "stream",
     "text": [
      "items continuous id assignment success!\n"
     ]
    }
   ],
   "source": [
    "import re\n",
    "# validate the dict data for hero and item\n",
    "def validate(data):\n",
    "    id=[]\n",
    "    for key in data:\n",
    "        tid=data[key]\n",
    "        id.append(tid)\n",
    "    id.sort();\n",
    "    flag=True\n",
    "    for i in range(0, len(id)):\n",
    "        if id[i]!=i:\n",
    "            print i\n",
    "            flag=False\n",
    "    #print id\n",
    "    return flag\n",
    "# get the key-id pairs of hero or item data dict to be continuous\n",
    "def continuous_format(data):\n",
    "    i=0\n",
    "    for key in data:\n",
    "        data[key]=i\n",
    "        i+=1\n",
    "\n",
    "# construct item/hero-id based on json data\n",
    "# reformat the id sequence\n",
    "def dict_from_json(data, reindex):\n",
    "    dict_data=dict()\n",
    "    repeat=0\n",
    "    for i in range(0, len(data)):\n",
    "        #name=data[i]['name']\n",
    "        name=re.sub('(npc_dota_hero_|item_)', '', data[i]['name'])\n",
    "        #name=re.sub('[npc_|item_]', '', data[i]['name'])\n",
    "        if name not in dict_data:\n",
    "            if reindex:\n",
    "                dict_data[name]=(i-repeat)\n",
    "            else:\n",
    "                dict_data[name]=int(data[i]['id'])\n",
    "        else:\n",
    "            repeat+=1\n",
    "            \n",
    "        \n",
    "    return dict_data\n",
    "\n",
    "# for a up-to-date item/hero list, we can http request to\n",
    "# https://api.opendota.com/api/explorer?sql=SELECT%20*%20FROM%20items\n",
    "heroes=json.load(open('heroes.json'))['rows']\n",
    "items=json.load(open('items.json'))['rows']\n",
    "#print heroes\n",
    "heroes=dict_from_json(heroes, False)\n",
    "items=dict_from_json(items, True)\n",
    "\n",
    "#if validate(heroes):\n",
    "#    print \"heroes continuous id assignment success!\"\n",
    "if validate(items):\n",
    "    print \"items continuous id assignment success!\"\n",
    "#print items\n",
    "#print heroes\n",
    "#print items"
   ]
  },
  {
   "cell_type": "code",
   "execution_count": 103,
   "metadata": {},
   "outputs": [
    {
     "name": "stdout",
     "output_type": "stream",
     "text": [
      "hero count: 121\n",
      "item count: 292\n"
     ]
    }
   ],
   "source": [
    "# based on the google drive data\n",
    "# hero count=113\n",
    "# item count=1020\n",
    "import json\n",
    "import os\n",
    "import sys\n",
    "\n",
    "fpath='./data/'\n",
    "\n",
    "# init some coefficients\n",
    "# the baseline freq coefficient\n",
    "a=1.2\n",
    "b=0.8\n",
    "\n",
    "# init basic hero-item freq matrix\n",
    "\n",
    "def maxValInDict(data):\n",
    "    maxval=(-sys.maxint-1)\n",
    "    for key in data:\n",
    "        if data[key]>maxval:\n",
    "            maxval=data[key]\n",
    "    return maxval\n",
    "\n",
    "hcount=maxValInDict(heroes)+1\n",
    "icount=len(items)\n",
    "print \"hero count: \" + str(hcount)\n",
    "print \"item count: \" + str(icount)\n",
    "basic_freq=[]\n",
    "for i in range(0, hcount):\n",
    "    basic_freq.append([0]*icount)\n",
    "\n",
    "# load from data and computer base freq\n",
    "# the first five heroes in the players list is radiant\n",
    "for fname in os.listdir(fpath):\n",
    "    data=json.load(open(fpath+fname))\n",
    "    players=data['players']\n",
    "    for i in range(0, len(players)):\n",
    "        player=players[i]\n",
    "        heroid=player['hero_id']\n",
    "        purchase=player['purchase']\n",
    "        if player['isRadiant']:\n",
    "            win=player['radiant_win']\n",
    "        else:\n",
    "            win=!player['radiant_win']\n",
    "        # be noticed that purchase is a dictionary\n",
    "        for key in purchase:\n",
    "            iid=items[key]\n",
    "            try:\n",
    "                if win: \n",
    "                    basic_freq[heroid][iid]+=a\n",
    "                else: \n",
    "                    basic_freq[heroid][iid]+=b\n",
    "            except IndexError as e:\n",
    "                print \"file name: \" + fname\n",
    "                print \"item id: \" + str(iid)\n",
    "                print \"hero id: \" + str(heroid)\n",
    "    \n"
   ]
  },
  {
   "cell_type": "code",
   "execution_count": 104,
   "metadata": {},
   "outputs": [
    {
     "name": "stdout",
     "output_type": "stream",
     "text": [
      "[0, 0, 0, 0, 0, 0, 0, 0, 0, 0, 0, 0, 0, 0, 0, 0, 0, 0, 0, 0, 0, 0, 0, 0, 0, 0, 0, 0, 0, 0, 0, 0, 0, 0, 0, 0, 0, 0, 0, 0, 0, 0, 0, 0, 0, 0, 0, 0, 0, 0, 0, 0, 0, 0, 0, 0, 0, 0, 0, 0, 0, 0, 0, 0, 0, 0, 0, 0, 0, 0, 0, 0, 0, 0, 0, 0, 0, 0, 0, 0, 0, 0, 0, 0, 0, 0, 0, 0, 0, 0, 0, 0, 0, 0, 0, 0, 0, 0, 0, 0, 0, 0, 0, 0, 0, 0, 0, 0, 0, 0, 0, 0, 0, 0, 0, 0, 0, 0, 0, 0, 0, 0, 0, 0, 0, 0, 0, 0, 0, 0, 0, 0, 0, 0, 0, 0, 0, 0, 0, 0, 0, 0, 0, 0, 0, 0, 0, 0, 0, 0, 0, 0, 0, 0, 0, 0, 0, 0, 0, 0, 0, 0, 0, 0, 0, 0, 0, 0, 0, 0, 0, 0, 0, 0, 0, 0, 0, 0, 0, 0, 0, 0, 0, 0, 0, 0, 0, 0, 0, 0, 0, 0, 0, 0, 0, 0, 0, 0, 0, 0, 0, 0, 0, 0, 0, 0, 0, 0, 0, 0, 0, 0, 0, 0, 0, 0, 0, 0, 0, 0, 0, 0, 0, 0, 0, 0, 0, 0, 0, 0, 0, 0, 0, 0, 0, 0, 0, 0, 0, 0, 0, 0, 0, 0, 0, 0, 0, 0, 0, 0, 0, 0, 0, 0, 0, 0, 0, 0, 0, 0, 0, 0, 0, 0, 0, 0, 0, 0, 0, 0, 0, 0, 0, 0, 0, 0, 0, 0, 0, 0, 0, 0, 0, 0, 0, 0, 0, 0, 0, 0, 0, 0]\n"
     ]
    }
   ],
   "source": [
    "print basic_freq[1]"
   ]
  },
  {
   "cell_type": "code",
   "execution_count": null,
   "metadata": {
    "collapsed": true
   },
   "outputs": [],
   "source": []
  }
 ],
 "metadata": {
  "kernelspec": {
   "display_name": "Python 2",
   "language": "python",
   "name": "python2"
  },
  "language_info": {
   "codemirror_mode": {
    "name": "ipython",
    "version": 2
   },
   "file_extension": ".py",
   "mimetype": "text/x-python",
   "name": "python",
   "nbconvert_exporter": "python",
   "pygments_lexer": "ipython2",
   "version": "2.7.14"
  }
 },
 "nbformat": 4,
 "nbformat_minor": 2
}
